{
  "nbformat": 4,
  "nbformat_minor": 0,
  "metadata": {
    "colab": {
      "provenance": [],
      "mount_file_id": "1auMAa3qSbXk_xJ-QbfxLfl41TliyPZFq",
      "authorship_tag": "ABX9TyNWRYLQwG0Sb3ZZwIsD+Pny",
      "include_colab_link": true
    },
    "kernelspec": {
      "name": "python3",
      "display_name": "Python 3"
    },
    "language_info": {
      "name": "python"
    }
  },
  "cells": [
    {
      "cell_type": "markdown",
      "metadata": {
        "id": "view-in-github",
        "colab_type": "text"
      },
      "source": [
        "<a href=\"https://colab.research.google.com/github/VivianaEVV/Caso-pr-ctico-Curso-An-lisis-de-Datos-de-Google-Specialization/blob/main/Caso_Practico_Cyclistic.ipynb\" target=\"_parent\"><img src=\"https://colab.research.google.com/assets/colab-badge.svg\" alt=\"Open In Colab\"/></a>"
      ]
    },
    {
      "cell_type": "markdown",
      "source": [
        "Se crea una lista para almacenar DataFrames\n"
      ],
      "metadata": {
        "id": "PiIyk78CZtGO"
      }
    },
    {
      "cell_type": "code",
      "execution_count": 3,
      "metadata": {
        "id": "jP7lQjUrQszH"
      },
      "outputs": [],
      "source": [
        "import os\n",
        "import pandas as pd # Se importan las librerías\n",
        "\n",
        "# Define la ruta de la carpeta donde están los archivos CSV\n",
        "folder_path = '/content/Archivos_AD'\n",
        "\n",
        "# Obtiene la lista de todos los archivos CSV en la carpeta\n",
        "csv_files = [file for file in os.listdir(folder_path) if file.endswith('.csv')]\n",
        "\n",
        "# Lista para almacenar cada DataFrame\n",
        "dataframes = []"
      ]
    },
    {
      "cell_type": "markdown",
      "source": [
        "Lee cada archivo CSV y almacenarlo en una lista"
      ],
      "metadata": {
        "id": "Ihjb2Khye4HW"
      }
    },
    {
      "cell_type": "code",
      "source": [
        "# Itera sobre cada archivo CSV en la carpeta\n",
        "for file in csv_files:\n",
        "    # Construye la ruta completa del archivo\n",
        "    file_path = os.path.join(folder_path, file)\n",
        "\n",
        "    # Lee el archivo CSV y lo almacena en un DataFrame\n",
        "    df = pd.read_csv(file_path)\n",
        "\n",
        "    # Agrega el DataFrame a la lista\n",
        "    dataframes.append(df)\n"
      ],
      "metadata": {
        "id": "Q4uNpQ65eEIJ"
      },
      "execution_count": 4,
      "outputs": []
    },
    {
      "cell_type": "code",
      "source": [
        "# Concatena todos los DataFrames en uno solo\n",
        "df_completo = pd.concat(dataframes, ignore_index=True)\n",
        "\n",
        "# Muestra las primeras filas del DataFrame combinado\n",
        "print(df_completo.head())"
      ],
      "metadata": {
        "colab": {
          "base_uri": "https://localhost:8080/"
        },
        "collapsed": true,
        "id": "-kR3paUaaUMx",
        "outputId": "29c62146-1ead-4b05-d8c5-6b23dcbe147f"
      },
      "execution_count": 5,
      "outputs": [
        {
          "output_type": "stream",
          "name": "stdout",
          "text": [
            "            ride_id  rideable_type           started_at             ended_at  \\\n",
            "0  64FBE3BAED5F29E6  electric_bike  2024-03-05 18:33:11  2024-03-05 18:51:48   \n",
            "1  9991629435C5E20E  electric_bike  2024-03-06 17:15:14  2024-03-06 17:16:04   \n",
            "2  E5C9FECD5B71BEBD  electric_bike  2024-03-06 17:16:36  2024-03-06 17:19:28   \n",
            "3  4CEA3EC8906DAEA8  electric_bike  2024-03-03 22:55:54  2024-03-03 22:58:08   \n",
            "4  77266B408503C55F  electric_bike  2024-03-17 11:15:18  2024-03-17 11:31:18   \n",
            "\n",
            "  start_station_name start_station_id end_station_name end_station_id  \\\n",
            "0                NaN              NaN              NaN            NaN   \n",
            "1                NaN              NaN              NaN            NaN   \n",
            "2                NaN              NaN              NaN            NaN   \n",
            "3                NaN              NaN              NaN            NaN   \n",
            "4                NaN              NaN              NaN            NaN   \n",
            "\n",
            "   start_lat  start_lng  end_lat  end_lng member_casual  \n",
            "0      41.94     -87.65    41.96   -87.65        member  \n",
            "1      41.91     -87.64    41.91   -87.64        member  \n",
            "2      41.91     -87.64    41.92   -87.64        member  \n",
            "3      41.90     -87.63    41.89   -87.63        member  \n",
            "4      41.93     -87.70    41.93   -87.72        member  \n"
          ]
        }
      ]
    },
    {
      "cell_type": "markdown",
      "source": [],
      "metadata": {
        "id": "xcWcYNDTBWBi"
      }
    },
    {
      "cell_type": "code",
      "source": [
        "# Crear una copia del DataFrame con las columnas renombradas\n",
        "df_analisis = df_completo.rename(columns={\n",
        "    'ride_id': 'id_viaje',\n",
        "    'rideable_type': 'tipo_bicicleta',\n",
        "    'started_at': 'inicio_viaje',\n",
        "    'ended_at': 'fin_viaje',\n",
        "    'start_station_name': 'nombre_estacion_inicio',\n",
        "    'start_station_id': 'id_estacion_inicio',\n",
        "    'end_station_name': 'nombre_estacion_fin',\n",
        "    'end_station_id': 'id_estacion_fin',\n",
        "    'start_lat': 'latitud_inicio',\n",
        "    'start_lng': 'longitud_inicio',\n",
        "    'end_lat': 'latitud_fin',\n",
        "    'end_lng': 'longitud_fin',\n",
        "    'member_casual': 'tipo_usuario'\n",
        "})\n",
        "\n",
        "# Verificar los nuevos nombres de columnas\n",
        "print(df_analisis.columns)"
      ],
      "metadata": {
        "colab": {
          "base_uri": "https://localhost:8080/"
        },
        "id": "5ssoxGj1286q",
        "outputId": "b48fed44-c49f-437d-ed80-229777e70e59"
      },
      "execution_count": 6,
      "outputs": [
        {
          "output_type": "stream",
          "name": "stdout",
          "text": [
            "Index(['id_viaje', 'tipo_bicicleta', 'inicio_viaje', 'fin_viaje',\n",
            "       'nombre_estacion_inicio', 'id_estacion_inicio', 'nombre_estacion_fin',\n",
            "       'id_estacion_fin', 'latitud_inicio', 'longitud_inicio', 'latitud_fin',\n",
            "       'longitud_fin', 'tipo_usuario'],\n",
            "      dtype='object')\n"
          ]
        }
      ]
    },
    {
      "cell_type": "code",
      "source": [
        "# Revisión inicial\n",
        "print(df_analisis.info())\n",
        "print(df_analisis.describe()) #Se muestran las columnas con sus respectivos índices, nombres y tipos de datos (Dtype)"
      ],
      "metadata": {
        "colab": {
          "base_uri": "https://localhost:8080/"
        },
        "id": "TWmjJvPHlVi2",
        "outputId": "279c9a27-4420-4e08-9e45-8944aa6cfb7f"
      },
      "execution_count": 7,
      "outputs": [
        {
          "output_type": "stream",
          "name": "stdout",
          "text": [
            "<class 'pandas.core.frame.DataFrame'>\n",
            "RangeIndex: 5860568 entries, 0 to 5860567\n",
            "Data columns (total 13 columns):\n",
            " #   Column                  Dtype  \n",
            "---  ------                  -----  \n",
            " 0   id_viaje                object \n",
            " 1   tipo_bicicleta          object \n",
            " 2   inicio_viaje            object \n",
            " 3   fin_viaje               object \n",
            " 4   nombre_estacion_inicio  object \n",
            " 5   id_estacion_inicio      object \n",
            " 6   nombre_estacion_fin     object \n",
            " 7   id_estacion_fin         object \n",
            " 8   latitud_inicio          float64\n",
            " 9   longitud_inicio         float64\n",
            " 10  latitud_fin             float64\n",
            " 11  longitud_fin            float64\n",
            " 12  tipo_usuario            object \n",
            "dtypes: float64(4), object(9)\n",
            "memory usage: 581.3+ MB\n",
            "None\n",
            "       latitud_inicio  longitud_inicio   latitud_fin  longitud_fin\n",
            "count    5.860568e+06     5.860568e+06  5.853336e+06  5.853336e+06\n",
            "mean     4.190218e+01    -8.764622e+01  4.190258e+01 -8.764644e+01\n",
            "std      4.474907e-02     2.748958e-02  5.598336e-02  1.136824e-01\n",
            "min      4.164000e+01    -8.791000e+01  1.606000e+01 -1.440500e+02\n",
            "25%      4.188096e+01    -8.766000e+01  4.188096e+01 -8.766000e+01\n",
            "50%      4.189736e+01    -8.764182e+01  4.189776e+01 -8.764288e+01\n",
            "75%      4.193000e+01    -8.762952e+01  4.193000e+01 -8.762954e+01\n",
            "max      4.207000e+01    -8.752000e+01  8.796000e+01  1.525300e+02\n"
          ]
        }
      ]
    },
    {
      "cell_type": "markdown",
      "source": [
        "Identificar columnas con valores faltantes."
      ],
      "metadata": {
        "id": "cmAQEv6H99vh"
      }
    },
    {
      "cell_type": "code",
      "source": [
        "# Verificar valores faltantes\n",
        "print(df_analisis.isnull().sum())\n",
        "\n",
        "# Imputar valores (por ejemplo, rellenar con \"Desconocido\" en columnas de texto)\n",
        "df_analisis['nombre_estacion_inicio'] = df_analisis['nombre_estacion_inicio'].fillna('Desconocido')"
      ],
      "metadata": {
        "colab": {
          "base_uri": "https://localhost:8080/"
        },
        "id": "mM4jJanonmWP",
        "outputId": "5e6e17c5-6584-4038-e11f-935d37ab998e"
      },
      "execution_count": 8,
      "outputs": [
        {
          "output_type": "stream",
          "name": "stdout",
          "text": [
            "id_viaje                        0\n",
            "tipo_bicicleta                  0\n",
            "inicio_viaje                    0\n",
            "fin_viaje                       0\n",
            "nombre_estacion_inicio    1073951\n",
            "id_estacion_inicio        1073951\n",
            "nombre_estacion_fin       1104653\n",
            "id_estacion_fin           1104653\n",
            "latitud_inicio                  0\n",
            "longitud_inicio                 0\n",
            "latitud_fin                  7232\n",
            "longitud_fin                 7232\n",
            "tipo_usuario                    0\n",
            "dtype: int64\n"
          ]
        },
        {
          "output_type": "stream",
          "name": "stderr",
          "text": [
            "<ipython-input-8-9257ff4f0de7>:5: FutureWarning: A value is trying to be set on a copy of a DataFrame or Series through chained assignment using an inplace method.\n",
            "The behavior will change in pandas 3.0. This inplace method will never work because the intermediate object on which we are setting values always behaves as a copy.\n",
            "\n",
            "For example, when doing 'df[col].method(value, inplace=True)', try using 'df.method({col: value}, inplace=True)' or df[col] = df[col].method(value) instead, to perform the operation inplace on the original object.\n",
            "\n",
            "\n",
            "  df_analisis['nombre_estacion_inicio'].fillna('Desconocido', inplace=True)\n"
          ]
        }
      ]
    },
    {
      "cell_type": "markdown",
      "source": [
        "El resultado indica que tus datos tienen valores faltantes(NaN) en varias columnas:\n",
        "\n",
        "nombre_estacion_inicio y id_estacion_inicio → 1.073.951 valores faltantes.\n",
        "nombre_estacion_fin y id_estacion_fin → 1.104.653 valores faltantes.\n",
        "latitud_fin y longitud_fin → 7.232 valores faltantes."
      ],
      "metadata": {
        "id": "rZPf3DKZ8YWs"
      }
    },
    {
      "cell_type": "code",
      "source": [
        "# Rellenar valores faltantes en las columnas de estaciones\n",
        "df_analisis['nombre_estacion_inicio'] = df_analisis['nombre_estacion_inicio'].fillna('Desconocido')\n",
        "df_analisis['nombre_estacion_fin'] = df_analisis['nombre_estacion_fin'].fillna('Desconocido')\n",
        "\n",
        "# Opcional: Rellenar latitud/longitud con 0 si falta (o descartar las filas si es crítico)\n",
        "df_analisis['latitud_fin'] = df_analisis['latitud_fin'].fillna(0)\n",
        "df_analisis['longitud_fin'] = df_analisis['longitud_fin'].fillna(0)"
      ],
      "metadata": {
        "id": "7kgQbYW0oIC0"
      },
      "execution_count": 9,
      "outputs": []
    },
    {
      "cell_type": "code",
      "source": [
        "# Verificar coherencia de fechas\n",
        "df_analisis = df_analisis[df_analisis['inicio_viaje'] < df_analisis['fin_viaje']]"
      ],
      "metadata": {
        "id": "oMYfGkZZ9Bdc"
      },
      "execution_count": 13,
      "outputs": []
    },
    {
      "cell_type": "markdown",
      "source": [
        "Detectar valores atípicos en la duración del viaje. Revisar la columna duracion_viaje para valores inusualmente altos o bajos."
      ],
      "metadata": {
        "id": "zKtF8_ib9Was"
      }
    },
    {
      "cell_type": "code",
      "source": [
        "# Eliminar milisegundos, si es que existen de las columnas de fecha\n",
        "df_analisis['inicio_viaje'] = df_analisis['inicio_viaje'].str.split('.', expand=True)[0]\n",
        "df_analisis['fin_viaje'] = df_analisis['fin_viaje'].str.split('.', expand=True)[0]\n",
        "\n",
        "# Convertir las columnas de fecha a formato datetime\n",
        "df_analisis['inicio_viaje'] = pd.to_datetime(df_analisis['inicio_viaje'], errors='coerce')\n",
        "df_analisis['fin_viaje'] = pd.to_datetime(df_analisis['fin_viaje'], errors='coerce')\n",
        "\n",
        "# Calcular la duración del viaje\n",
        "df_analisis['duracion_viaje'] = (df_analisis['fin_viaje'] - df_analisis['inicio_viaje']).dt.total_seconds() / 60  # duración en minutos\n",
        "\n",
        "# Eliminar viajes con duración negativa o excesiva (ej. mayores a 24 horas)\n",
        "df_analisis = df_analisis[(df_analisis['duracion_viaje'] > 0) & (df_analisis['duracion_viaje'] <= 1440)]"
      ],
      "metadata": {
        "id": "5jKxm4U99SBd"
      },
      "execution_count": 14,
      "outputs": []
    },
    {
      "cell_type": "markdown",
      "source": [
        "Distribución de la duración del viaje"
      ],
      "metadata": {
        "id": "A1Kwzct0CTvH"
      }
    },
    {
      "cell_type": "code",
      "source": [
        "import matplotlib.pyplot as plt\n",
        "import seaborn as sns\n",
        "\n",
        "# Histograma de la duración del viaje\n",
        "plt.figure(figsize=(10, 6))\n",
        "sns.histplot(df_analisis['duracion_viaje'], kde=True, bins=30)\n",
        "plt.title('Distribución de la Duración del Viaje')\n",
        "plt.xlabel('Duración (minutos)')\n",
        "plt.ylabel('Frecuencia')\n",
        "plt.show()"
      ],
      "metadata": {
        "id": "NpEMqWxkAVXM"
      },
      "execution_count": null,
      "outputs": []
    },
    {
      "cell_type": "markdown",
      "source": [
        "Distribución de viajes por día de la semana"
      ],
      "metadata": {
        "id": "e_BaC4mmCVLF"
      }
    },
    {
      "cell_type": "code",
      "source": [
        "# Asegurarse de que 'inicio_viaje' esté en formato datetime\n",
        "df_analisis['inicio_viaje'] = pd.to_datetime(df_analisis['inicio_viaje'], errors='coerce')\n",
        "\n",
        "# Crear la columna 'dia_semana' que contiene el nombre del día\n",
        "df_analisis['dia_semana'] = df_analisis['inicio_viaje'].dt.day_name()\n",
        "\n",
        "# Verificar que la columna se ha creado correctamente\n",
        "print(df_analisis[['inicio_viaje', 'dia_semana']].head())\n",
        "\n",
        "# Convertir 'dia_semana' en una categoría con el orden correcto\n",
        "df_analisis['dia_semana'] = pd.Categorical(df_analisis['dia_semana'], categories=['Monday', 'Tuesday', 'Wednesday', 'Thursday', 'Friday', 'Saturday', 'Sunday'], ordered=True)\n",
        "\n",
        "# Diagrama de barras de los viajes por día de la semana\n",
        "plt.figure(figsize=(10, 6))\n",
        "sns.countplot(data=df_analisis, x='dia_semana')\n",
        "plt.title('Distribución de los Viajes por Día de la Semana')\n",
        "plt.xlabel('Día de la Semana')\n",
        "plt.ylabel('Número de Viajes')\n",
        "plt.show()\n"
      ],
      "metadata": {
        "id": "B0EP7s77CXE1"
      },
      "execution_count": null,
      "outputs": []
    },
    {
      "cell_type": "markdown",
      "source": [
        "Distribución de latitudes y longitudes de estacionescantidad de viajes por estación"
      ],
      "metadata": {
        "id": "Osb9ekAeeey7"
      }
    },
    {
      "cell_type": "code",
      "source": [
        "# Seleccionar las 10 estaciones de inicio más populares\n",
        "top_estaciones = df_analisis['nombre_estacion_inicio'].value_counts().head(10)\n",
        "\n",
        "# Crear el gráfico de barras horizontal\n",
        "plt.figure(figsize=(12, 8))\n",
        "ax = sns.barplot(y=top_estaciones.index, x=top_estaciones.values, hue=top_estaciones.index, palette='viridis', legend=False)\n",
        "plt.title('Top 10 Estaciones de Inicio más Populares')\n",
        "plt.xlabel('Cantidad de Viajes')\n",
        "plt.ylabel('Nombre de la Estación de Inicio')\n",
        "\n",
        "# Agregar los porcentajes al lado de cada barra\n",
        "total_viajes = df_analisis.shape[0]\n",
        "for i, value in enumerate(top_estaciones.values):\n",
        "    percentage = f'{(value / total_viajes) * 100:.1f}%'\n",
        "    ax.text(value + 5, i, percentage, va='center', fontsize=10, color='black')\n",
        "\n",
        "plt.show()"
      ],
      "metadata": {
        "id": "PeLm_W0Cegtu"
      },
      "execution_count": null,
      "outputs": []
    },
    {
      "cell_type": "code",
      "source": [
        "# Calcular conteo y porcentaje de cada tipo de cliente\n",
        "conteo_clientes = df_analisis['tipo_usuario'].value_counts()\n",
        "porcentaje_clientes = df_analisis['tipo_usuario'].value_counts(normalize=True) * 100\n",
        "\n",
        "print(\"Conteo de tipo de clientes:\")\n",
        "print(conteo_clientes)\n",
        "print(\"\\nPorcentaje de tipo de clientes:\")\n",
        "print(porcentaje_clientes)\n",
        "\n",
        "# 2. Visualización: Gráfico de barras\n",
        "\n",
        "plt.figure(figsize=(8, 6))\n",
        "ax = sns.countplot(x='tipo_usuario', data=df_analisis, palette='viridis')\n",
        "plt.title('Distribución del Tipo de Clientes')\n",
        "plt.xlabel('Tipo de Cliente')\n",
        "plt.ylabel('Número de Viajes')\n",
        "\n",
        "# Agregar las etiquetas con el conteo sobre cada barra\n",
        "for index, value in enumerate(conteo_clientes):\n",
        "    ax.text(index, value + 100, f'{value}', ha='center', fontsize=12)\n",
        "plt.show()"
      ],
      "metadata": {
        "id": "hmBq6mRW6fMx"
      },
      "execution_count": null,
      "outputs": []
    },
    {
      "cell_type": "code",
      "source": [
        "#Visualización: Gráfico circular (pie chart)\n",
        "\n",
        "plt.figure(figsize=(8, 8))\n",
        "colors = sns.color_palette('viridis', n_colors=len(conteo_clientes))\n",
        "plt.pie(conteo_clientes, labels=conteo_clientes.index, autopct='%1.1f%%', colors=colors, startangle=140)\n",
        "plt.title('Porcentaje de Tipo de Clientes')\n",
        "plt.axis('equal')  # Para que el pie se vea como un círculo\n",
        "plt.show()\n",
        "\n"
      ],
      "metadata": {
        "id": "xUyoPhmT6xf_"
      },
      "execution_count": null,
      "outputs": []
    },
    {
      "cell_type": "code",
      "source": [
        "# 4. (Opcional) Comparar la duración promedio de los viajes por tipo de cliente\n",
        "# Convertir la duración a minutos en caso de que esté en segundos (ajusta según tu DataFrame)\n",
        "# Aquí se asume que 'duracion_viaje' está en segundos. Si ya está en minutos, omite la división.\n",
        "df_analisis['duracion_viaje_min'] = df_analisis['duracion_viaje'] / 60\n",
        "\n",
        "duracion_promedio = df_analisis.groupby('tipo_usuario')['duracion_viaje_min'].mean()\n",
        "\n",
        "print(\"\\nDuración promedio de viajes (minutos) por tipo de cliente:\")\n",
        "print(duracion_promedio)\n",
        "\n",
        "plt.figure(figsize=(8, 6))\n",
        "ax = sns.barplot(x=duracion_promedio.index, y=duracion_promedio.values, palette='viridis')\n",
        "plt.title('Duración Promedio del Viaje por Tipo de Cliente')\n",
        "plt.xlabel('Tipo de Cliente')\n",
        "plt.ylabel('Duración Promedio (minutos)')\n",
        "\n",
        "# Agregar etiquetas con la duración promedio sobre cada barra\n",
        "for index, value in enumerate(duracion_promedio.values):\n",
        "    ax.text(index, value + 0.5, f'{value:.1f}', ha='center', fontsize=12)\n",
        "plt.show()"
      ],
      "metadata": {
        "id": "54QH9pfm7H5K"
      },
      "execution_count": null,
      "outputs": []
    }
  ]
}